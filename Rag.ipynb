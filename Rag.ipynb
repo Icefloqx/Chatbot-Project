{
 "cells": [
  {
   "cell_type": "markdown",
   "id": "26ceabfd",
   "metadata": {},
   "source": [
    "### CREATING A CHATBOT THAT WILL ONLY ANSWER QUESTIONS FROM A GIVEN PDF WHICH BY THIS CASE IS THE KENYAN CONSTITUTION PDF AND I'LL BE USING RAG"
   ]
  },
  {
   "cell_type": "code",
   "execution_count": 1,
   "id": "929be3bf",
   "metadata": {},
   "outputs": [
    {
     "name": "stderr",
     "output_type": "stream",
     "text": [
      "c:\\Users\\ADEN\\AppData\\Local\\Programs\\Python\\Python313\\Lib\\site-packages\\tqdm\\auto.py:21: TqdmWarning: IProgress not found. Please update jupyter and ipywidgets. See https://ipywidgets.readthedocs.io/en/stable/user_install.html\n",
      "  from .autonotebook import tqdm as notebook_tqdm\n"
     ]
    }
   ],
   "source": [
    "#Import Libraries after installing modules from the terminal\n",
    "import os\n",
    "from langchain_community.document_loaders import PyPDFDirectoryLoader\n",
    "from langchain_text_splitters import RecursiveCharacterTextSplitter\n",
    "from langchain_community.embeddings import HuggingFaceEmbeddings\n",
    "from langchain_chroma import Chroma\n",
    "from langchain_groq import ChatGroq\n",
    "from langchain.prompts import PromptTemplate"
   ]
  },
  {
   "cell_type": "code",
   "execution_count": null,
   "id": "f1710060",
   "metadata": {},
   "outputs": [],
   "source": [
    "#Set api environment\n",
    "os.environ[\"GROQ_API_KEY\"]=\"gsk_5N9pIIIjQtN5k7I...\""
   ]
  },
  {
   "cell_type": "code",
   "execution_count": 3,
   "id": "c72a475e",
   "metadata": {},
   "outputs": [],
   "source": [
    "#Create paths\n",
    "DATA_PATH=\"/content/data\"\n",
    "CHROMA_PATH=\"/content/chroma_db\""
   ]
  },
  {
   "cell_type": "code",
   "execution_count": 4,
   "id": "36a408bd",
   "metadata": {},
   "outputs": [
    {
     "name": "stdout",
     "output_type": "stream",
     "text": [
      "193\n"
     ]
    }
   ],
   "source": [
    "#Load the document/pdf\n",
    "loader=PyPDFDirectoryLoader(\"data\")\n",
    "raw_documents = loader.load()\n",
    "print(len(raw_documents))"
   ]
  },
  {
   "cell_type": "code",
   "execution_count": 5,
   "id": "99ebd51f",
   "metadata": {},
   "outputs": [],
   "source": [
    "#Split and chunk\n",
    "splitter = RecursiveCharacterTextSplitter(\n",
    "    chunk_size=400,\n",
    "    chunk_overlap=150\n",
    ")\n",
    "chunks = splitter.split_documents(raw_documents)\n",
    "#print(f\"total chunks are: {len(chunks)}\")\n"
   ]
  },
  {
   "cell_type": "code",
   "execution_count": null,
   "id": "12de7250",
   "metadata": {},
   "outputs": [],
   "source": [
    "#Create embeddings\n",
    "embeddings_model=HuggingFaceEmbeddings(\n",
    "    model_name=\"sentence-transformers/all-MiniLM-L6-v2\"\n",
    ")"
   ]
  },
  {
   "cell_type": "code",
   "execution_count": 7,
   "id": "7ceed60c",
   "metadata": {},
   "outputs": [],
   "source": [
    "#Generate a vector database\n",
    "vector_store=Chroma(\n",
    "    collection_name=\"sample_collection\",\n",
    "    embedding_function=embeddings_model,\n",
    "    persist_directory=CHROMA_PATH,\n",
    ")"
   ]
  },
  {
   "cell_type": "code",
   "execution_count": 8,
   "id": "cbfa1af5",
   "metadata": {},
   "outputs": [
    {
     "name": "stdout",
     "output_type": "stream",
     "text": [
      "Inserted 1315 chunks into Chroma\n"
     ]
    }
   ],
   "source": [
    "# 4. Add chunks into DB\n",
    "\n",
    "vector_store.add_documents(documents=chunks)\n",
    "\n",
    "print(f\"Inserted {len(chunks)} chunks into Chroma\")"
   ]
  },
  {
   "cell_type": "code",
   "execution_count": 9,
   "id": "281c213c",
   "metadata": {},
   "outputs": [],
   "source": [
    "#Retrieving\n",
    "retriever=vector_store.as_retriever()"
   ]
  },
  {
   "cell_type": "code",
   "execution_count": 10,
   "id": "40b69784",
   "metadata": {},
   "outputs": [],
   "source": [
    "#Call in the LLM\n",
    "llm=ChatGroq(\n",
    "    model=\"llama-3.1-8b-instant\",\n",
    "    api_key=os.getenv(\"GROQ_API_KEY\"),\n",
    "    temperature=0.5\n",
    ")"
   ]
  },
  {
   "cell_type": "code",
   "execution_count": 11,
   "id": "e3b55832",
   "metadata": {},
   "outputs": [],
   "source": [
    "#Prompting the document\n",
    "rag_prompt_template = PromptTemplate(\n",
    "    input_variables=[\"question\", \"history\", \"knowledge\"],\n",
    "    template=\"\"\"\n",
    "    You are an assistant that answers based ONLY on the provided knowledge.\n",
    "    Do not say \"according to documents\" or similar.\n",
    "\n",
    "    Question: {question}\n",
    "\n",
    "    Conversation history: {history}\n",
    "\n",
    "    Knowledge:\n",
    "    {knowledge}\n",
    "    \"\"\"\n",
    ")\n"
   ]
  },
  {
   "cell_type": "code",
   "execution_count": 12,
   "id": "f943ac69",
   "metadata": {},
   "outputs": [],
   "source": [
    "#Chaining using a function\n",
    "def ask_bot(question, history=None):\n",
    "    history = history or []\n",
    "\n",
    "    # Retrieve docs\n",
    "    docs = retriever.invoke(question)\n",
    "    knowledge = \"\\n\\n\".join([doc.page_content for doc in docs])\n",
    "\n",
    "    # Format the prompt using the template\n",
    "    rag_prompt = rag_prompt_template.format(\n",
    "        question=question,\n",
    "        history=history,\n",
    "        knowledge=knowledge\n",
    "    )\n",
    "\n",
    "    # Collect response (streaming)\n",
    "    response = \"\"\n",
    "    for chunk in llm.stream(rag_prompt):\n",
    "        response += chunk.content\n",
    "    return response\n"
   ]
  },
  {
   "cell_type": "code",
   "execution_count": 40,
   "id": "cb977a74",
   "metadata": {},
   "outputs": [
    {
     "name": "stdout",
     "output_type": "stream",
     "text": [
      "An arrested person has the right to be informed promptly, in a language they understand, of:\n",
      "\n",
      "1. The reason for the arrest.\n",
      "2. The right to remain silent.\n",
      "3. The consequences of not remaining silent.\n",
      "\n",
      "They also have the right to remain silent.\n"
     ]
    }
   ],
   "source": [
    "#Testing if it'll answer the questions\n",
    "print(ask_bot(\"What are the right of an arrested person?\"))"
   ]
  },
  {
   "cell_type": "code",
   "execution_count": 14,
   "id": "eb5298b4",
   "metadata": {},
   "outputs": [
    {
     "name": "stdout",
     "output_type": "stream",
     "text": [
      "There shall be a right to have a fair hearing before a registration is cancelled.\n"
     ]
    }
   ],
   "source": [
    "print(ask_bot(\"About fair hearing\"))"
   ]
  },
  {
   "cell_type": "code",
   "execution_count": 15,
   "id": "338236c4",
   "metadata": {},
   "outputs": [
    {
     "name": "stdout",
     "output_type": "stream",
     "text": [
      "The main roles of the parliament in this constitution are to derive the legislative authority of the Republic from the people and exercise it at the national level.\n"
     ]
    }
   ],
   "source": [
    "print(ask_bot(\"What are the main roles of the parliament in this constitution?\"))"
   ]
  },
  {
   "cell_type": "code",
   "execution_count": 16,
   "id": "502daa5e",
   "metadata": {},
   "outputs": [
    {
     "name": "stdout",
     "output_type": "stream",
     "text": [
      "The document portrays that the devolved government should have a division of revenue. It also mentions mechanisms to ensure that the Commission on the Implementation of the Constitution can effectively monitor the implementation of the system of devolved government.\n"
     ]
    }
   ],
   "source": [
    "print(ask_bot(\"What does the document potray about the devolved government?\"))"
   ]
  },
  {
   "cell_type": "code",
   "execution_count": 17,
   "id": "9c4b3068",
   "metadata": {},
   "outputs": [
    {
     "name": "stdout",
     "output_type": "stream",
     "text": [
      "There is no information about Luxdev in the provided knowledge.\n"
     ]
    }
   ],
   "source": [
    "print(ask_bot(\"Tell me about Luxdev\"))"
   ]
  },
  {
   "cell_type": "code",
   "execution_count": 18,
   "id": "732db863",
   "metadata": {},
   "outputs": [
    {
     "name": "stdout",
     "output_type": "stream",
     "text": [
      "I couldn't find any information about Kiambu in the provided knowledge. However, I noticed that the provided text seems to be a song or a poem, possibly the national anthem of Kenya, given the mention of \"Nchi yetu ya Kenya\" which translates to \"Our Homeland of Kenya\".\n"
     ]
    }
   ],
   "source": [
    "print(ask_bot(\"Tell me about kiambu\"))"
   ]
  },
  {
   "cell_type": "code",
   "execution_count": 19,
   "id": "c5198d45",
   "metadata": {},
   "outputs": [
    {
     "name": "stdout",
     "output_type": "stream",
     "text": [
      "I couldn't find any information about Kileleshwa. The provided knowledge appears to be a patriotic song lyrics in Swahili, but it doesn't mention Kileleshwa.\n"
     ]
    }
   ],
   "source": [
    "print(ask_bot(\"Tell me about Kileleshwa\"))"
   ]
  },
  {
   "cell_type": "code",
   "execution_count": 22,
   "id": "54f05b44",
   "metadata": {},
   "outputs": [
    {
     "name": "stdout",
     "output_type": "stream",
     "text": [
      "The Kenyan National Anthem is:\n",
      "\n",
      "Ee Mungu nguvu yetu O God of all creation\n",
      "Ilete baraka kwetu. Bless this our land and nation.\n",
      "Haki iwe ngao na mlinzi Justice be our shield and defender\n",
      "Natukae na undugu May we dwell in unity\n",
      "Amani na uhuru Peace and liberty\n",
      "Raha tupate na ustawi Plenty be found within our borders.\n"
     ]
    }
   ],
   "source": [
    "print(ask_bot(\"Dictate the Kenyan National Anthem from the source\"))"
   ]
  },
  {
   "cell_type": "code",
   "execution_count": 24,
   "id": "1ca75c7b",
   "metadata": {},
   "outputs": [
    {
     "name": "stdout",
     "output_type": "stream",
     "text": [
      "The main roles of the parliament in this constitution are not explicitly stated in the provided knowledge. However, it can be inferred that the legislative authority of the Republic is derived from the people and is vested in and exercised by Parliament.\n"
     ]
    }
   ],
   "source": [
    "print(ask_bot(\"What are the main roles of the parliament in this constitution?\"))"
   ]
  },
  {
   "cell_type": "code",
   "execution_count": 25,
   "id": "6e168361",
   "metadata": {},
   "outputs": [
    {
     "name": "stdout",
     "output_type": "stream",
     "text": [
      "There is no information provided about article 37. However, there are multiple repetitions of the information about article 42.\n"
     ]
    }
   ],
   "source": [
    "print(ask_bot(\"What does article 37 say\"))"
   ]
  },
  {
   "cell_type": "code",
   "execution_count": 26,
   "id": "23028551",
   "metadata": {},
   "outputs": [
    {
     "name": "stdout",
     "output_type": "stream",
     "text": [
      "There are 5 articles in this document.\n"
     ]
    }
   ],
   "source": [
    "print(ask_bot(\"how many articles are there from this document\"))"
   ]
  },
  {
   "cell_type": "code",
   "execution_count": 27,
   "id": "a13e9566",
   "metadata": {},
   "outputs": [
    {
     "name": "stdout",
     "output_type": "stream",
     "text": [
      "The 8 articles appear to be repetitive. However, based on the provided text, the common content of the 8 articles can be summarized as follows:\n",
      "\n",
      "The articles bind all State organs, State officers, public officers, and all persons to:\n",
      "\n",
      "- Apply or interpret the Constitution\n",
      "- Enact, apply, or interpret any law\n",
      "- Make or implement public policy decisions\n",
      "\n",
      "Additionally, the national values and principles of governance are included, but the specific values and principles are not mentioned in the provided text.\n"
     ]
    }
   ],
   "source": [
    "print(ask_bot(\"What do the 8 articles entail\"))"
   ]
  },
  {
   "cell_type": "code",
   "execution_count": 28,
   "id": "de51b0fc",
   "metadata": {},
   "outputs": [
    {
     "name": "stdout",
     "output_type": "stream",
     "text": [
      "Article 1 states that it binds all State organs, State officers, public officers, and all persons whenever any of them:\n",
      "\n",
      "(a) applies or interprets this Constitution;\n",
      "(b) enacts, applies or interprets any law; or\n",
      "(c) makes or implements public policy decisions.\n"
     ]
    }
   ],
   "source": [
    "print(ask_bot(\"What does Article 1 state\"))"
   ]
  },
  {
   "cell_type": "code",
   "execution_count": 29,
   "id": "9e88dd21",
   "metadata": {},
   "outputs": [
    {
     "name": "stdout",
     "output_type": "stream",
     "text": [
      "There is no specific information provided about the Defence Forces in the given knowledge. However, it mentions that:\n",
      "\n",
      "1. The Defence Forces can be affected by unrest or instability only with the approval of the National Assembly.\n",
      "2. The composition of the command of the Defence Forces shall reflect the regional and ethnic diversity of the people of Kenya.\n",
      "3. A Defence Council has been established, which consists of the Cabinet Secretary responsible for defence as the chairperson.\n",
      "\n",
      "However, for more information about the Defence Forces, additional context or details are needed.\n"
     ]
    }
   ],
   "source": [
    "print(ask_bot(\"defence forces\"))"
   ]
  },
  {
   "cell_type": "code",
   "execution_count": 30,
   "id": "b31e4782",
   "metadata": {},
   "outputs": [
    {
     "name": "stdout",
     "output_type": "stream",
     "text": [
      "National security is the protection against internal and external threats to Kenya's territorial integrity and sovereignty, its people, their rights, freedoms, property, peace, stability, and prosperity, and other national interests.\n"
     ]
    }
   ],
   "source": [
    "print(ask_bot(\"National security\"))"
   ]
  },
  {
   "cell_type": "code",
   "execution_count": 31,
   "id": "6201e20f",
   "metadata": {},
   "outputs": [
    {
     "name": "stdout",
     "output_type": "stream",
     "text": [
      "The roles of courts in Kenya include those of the subordinate courts, which are:\n",
      "\n",
      "1. The Magistrates courts\n",
      "2. The Kadhis' courts\n",
      "3. The Courts Martial\n",
      "4. Any other court or local tribunal established by an Act of Parliament, other than the courts established as required by Article 162 (2).\n",
      "\n",
      "These subordinate courts have specific roles and jurisdictions, but their exact roles are not specified in the provided knowledge.\n"
     ]
    }
   ],
   "source": [
    "print(ask_bot(\"What are the roles of courts in Kenya?\"))"
   ]
  },
  {
   "cell_type": "code",
   "execution_count": 32,
   "id": "7ea7fa65",
   "metadata": {},
   "outputs": [
    {
     "name": "stdout",
     "output_type": "stream",
     "text": [
      "The High Court of Kenya is established by the Constitution of Kenya, 2010. However, the provided knowledge does not explicitly state the roles of the High Court.\n"
     ]
    }
   ],
   "source": [
    "print(ask_bot(\"What are the roles of the high court of Kenya?\"))"
   ]
  },
  {
   "cell_type": "code",
   "execution_count": 49,
   "id": "82af158d",
   "metadata": {},
   "outputs": [
    {
     "name": "stdout",
     "output_type": "stream",
     "text": [
      "Article 165 states: \n",
      "\n",
      "(2) If, with respect to any particular matter—\n",
      "(a) a law that was in effect immediately before the effective date assigns responsibility for that matter to a particular State.\n"
     ]
    }
   ],
   "source": [
    "print(ask_bot(\"What does article 165 state\"))"
   ]
  },
  {
   "cell_type": "code",
   "execution_count": 34,
   "id": "612faab8",
   "metadata": {},
   "outputs": [
    {
     "name": "stdout",
     "output_type": "stream",
     "text": [
      "The document portrays that the devolved government should have a division of revenue. It also mentions that the Commission on the Implementation of the Constitution should be able to perform its role in monitoring the implementation of the system of devolved government effectively.\n"
     ]
    }
   ],
   "source": [
    "print(ask_bot(\"What does the document potray about the devolved government?\"))"
   ]
  },
  {
   "cell_type": "code",
   "execution_count": 35,
   "id": "4c1f2975",
   "metadata": {},
   "outputs": [
    {
     "name": "stdout",
     "output_type": "stream",
     "text": [
      "The document states that there shall be no State religion.\n"
     ]
    }
   ],
   "source": [
    "print(ask_bot(\"What does the document state about state religion\"))"
   ]
  },
  {
   "cell_type": "code",
   "execution_count": 36,
   "id": "62116259",
   "metadata": {},
   "outputs": [
    {
     "name": "stdout",
     "output_type": "stream",
     "text": [
      "There is no direct information about cats in the provided knowledge. However, it mentions \"facilities for the accommodation, care and burial of animals\" under Animal control and welfare in the Constitution of Kenya, 2010. This implies that the government of Kenya has laws and regulations to protect and care for animals, which would likely include cats.\n"
     ]
    }
   ],
   "source": [
    "print(ask_bot(\"tell me about a cat\"))"
   ]
  },
  {
   "cell_type": "code",
   "execution_count": 37,
   "id": "26f65e12",
   "metadata": {},
   "outputs": [
    {
     "name": "stdout",
     "output_type": "stream",
     "text": [
      "I couldn't find any information about Luxdev in the provided knowledge.\n"
     ]
    }
   ],
   "source": [
    "print(ask_bot(\"Tell me about Luxdev\"))"
   ]
  },
  {
   "cell_type": "code",
   "execution_count": 38,
   "id": "2699ce91",
   "metadata": {},
   "outputs": [
    {
     "name": "stdout",
     "output_type": "stream",
     "text": [
      "I couldn't find any information about Icefloqx in my knowledge.\n"
     ]
    }
   ],
   "source": [
    "print(ask_bot(\"Tell me about Icefloqx\"))"
   ]
  }
 ],
 "metadata": {
  "kernelspec": {
   "display_name": "Python 3",
   "language": "python",
   "name": "python3"
  },
  "language_info": {
   "codemirror_mode": {
    "name": "ipython",
    "version": 3
   },
   "file_extension": ".py",
   "mimetype": "text/x-python",
   "name": "python",
   "nbconvert_exporter": "python",
   "pygments_lexer": "ipython3",
   "version": "3.13.5"
  }
 },
 "nbformat": 4,
 "nbformat_minor": 5
}
